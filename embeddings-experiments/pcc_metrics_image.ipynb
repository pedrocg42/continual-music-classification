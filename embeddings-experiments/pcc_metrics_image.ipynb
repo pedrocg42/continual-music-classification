{
 "cells": [
  {
   "cell_type": "code",
   "execution_count": 2,
   "metadata": {},
   "outputs": [],
   "source": [
    "import numpy as np\n",
    "from scipy.spatial import distance_matrix"
   ]
  },
  {
   "attachments": {},
   "cell_type": "markdown",
   "metadata": {},
   "source": [
    "## CIFAR100"
   ]
  },
  {
   "cell_type": "code",
   "execution_count": 16,
   "metadata": {},
   "outputs": [],
   "source": [
    "centers = {}\n",
    "for model_name in [\"resnet18\", \"resnet34\", \"resnet50\", \"vit\", \"vit-dino\"]:\n",
    "    train_embeddings = np.load(f\"image/{model_name}/cifar100/{model_name}_cifar100_train_embeddings.npy\")\n",
    "    train_labels = np.load(f\"image/{model_name}/cifar100/{model_name}_cifar100_train_labels.npy\")\n",
    "\n",
    "    unique_labels, count_labels = np.unique(train_labels, return_counts=True)\n",
    "    # print(\"Train label count:\")\n",
    "    model_centers = []\n",
    "    for label, _count in zip(unique_labels, count_labels, strict=False):\n",
    "        # print(f\"    - {label}: {count}\")\n",
    "        model_centers.append(np.mean(train_embeddings[train_labels == label], axis=0))\n",
    "    model_centers = np.array(model_centers)\n",
    "    centers[model_name] = model_centers"
   ]
  },
  {
   "cell_type": "code",
   "execution_count": 17,
   "metadata": {},
   "outputs": [
    {
     "name": "stdout",
     "output_type": "stream",
     "text": [
      "PCC Accuracy per model:\n",
      "    resnet18: 53.3100\n",
      "    resnet34: 59.3200\n",
      "    resnet50: 56.1400\n",
      "    vit: 82.6300\n",
      "    vit-dino: 69.7100\n"
     ]
    }
   ],
   "source": [
    "print(\"PCC Accuracy per model:\")\n",
    "for model_name in [\"resnet18\", \"resnet34\",\"resnet50\", \"vit\", \"vit-dino\"]:\n",
    "    test_embeddings = np.load(f\"image/{model_name}/cifar100/{model_name}_cifar100_test_embeddings.npy\")\n",
    "    test_labels = np.load(f\"image/{model_name}/cifar100/{model_name}_cifar100_test_labels.npy\")\n",
    "    unique_labels, count_labels = np.unique(test_labels, return_counts=True)\n",
    "    # print(\"Test label count:\")\n",
    "    # for label, count in zip(unique_labels, count_labels, strict=False):\n",
    "    #     print(f\"    - {label}: {count}\")\n",
    "    test_similarities = -distance_matrix(test_embeddings, centers[model_name])\n",
    "    test_preds = np.argmax(test_similarities, axis=1)\n",
    "    test_labels_idx = np.unique(test_labels, return_inverse=True)[1]\n",
    "    accuracy = np.mean(test_preds == test_labels_idx)\n",
    "    print(f\"    {model_name}: {accuracy*100:.4f}\")"
   ]
  },
  {
   "attachments": {},
   "cell_type": "markdown",
   "metadata": {},
   "source": [
    "## Core50"
   ]
  },
  {
   "cell_type": "code",
   "execution_count": 18,
   "metadata": {},
   "outputs": [],
   "source": [
    "centers = {}\n",
    "for model_name in [\"resnet18\", \"resnet34\", \"resnet50\", \"vit\", \"vit-dino\"]:\n",
    "    train_embeddings = np.load(f\"image/{model_name}/core50/{model_name}_core50_train_embeddings.npy\")\n",
    "    train_labels = np.load(f\"image/{model_name}/core50/{model_name}_core50_train_labels.npy\")\n",
    "\n",
    "    unique_labels, count_labels = np.unique(train_labels, return_counts=True)\n",
    "    # print(\"Train label count:\")\n",
    "    model_centers = []\n",
    "    for label, _count in zip(unique_labels, count_labels, strict=False):\n",
    "        # print(f\"    - {label}: {count}\")\n",
    "        model_centers.append(np.mean(train_embeddings[train_labels == label], axis=0))\n",
    "    model_centers = np.array(model_centers)\n",
    "    centers[model_name] = model_centers"
   ]
  },
  {
   "cell_type": "code",
   "execution_count": 19,
   "metadata": {},
   "outputs": [
    {
     "name": "stdout",
     "output_type": "stream",
     "text": [
      "PCC Accuracy per model:\n",
      "    resnet18: 76.4572\n",
      "    resnet34: 78.2374\n",
      "    resnet50: 78.4770\n",
      "    vit: 87.3992\n",
      "    vit-dino: 86.4681\n"
     ]
    }
   ],
   "source": [
    "print(\"PCC Accuracy per model:\")\n",
    "for model_name in [\"resnet18\", \"resnet34\",\"resnet50\", \"vit\", \"vit-dino\"]:\n",
    "    test_embeddings = np.load(f\"image/{model_name}/core50/{model_name}_core50_test_embeddings.npy\")\n",
    "    test_labels = np.load(f\"image/{model_name}/core50/{model_name}_core50_test_labels.npy\")\n",
    "    unique_labels, count_labels = np.unique(test_labels, return_counts=True)\n",
    "    # print(\"Test label count:\")\n",
    "    # for label, count in zip(unique_labels, count_labels, strict=False):\n",
    "    #     print(f\"    - {label}: {count}\")\n",
    "    test_similarities = -distance_matrix(test_embeddings, centers[model_name])\n",
    "    test_preds = np.argmax(test_similarities, axis=1)\n",
    "    test_labels_idx = np.unique(test_labels, return_inverse=True)[1]\n",
    "    accuracy = np.mean(test_preds == test_labels_idx)\n",
    "    print(f\"    {model_name}: {accuracy*100:.4f}\")"
   ]
  }
 ],
 "metadata": {
  "kernelspec": {
   "display_name": ".venv",
   "language": "python",
   "name": "python3"
  },
  "language_info": {
   "codemirror_mode": {
    "name": "ipython",
    "version": 3
   },
   "file_extension": ".py",
   "mimetype": "text/x-python",
   "name": "python",
   "nbconvert_exporter": "python",
   "pygments_lexer": "ipython3",
   "version": "3.12.7"
  },
  "orig_nbformat": 4
 },
 "nbformat": 4,
 "nbformat_minor": 2
}
