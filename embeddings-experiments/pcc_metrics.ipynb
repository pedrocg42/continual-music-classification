{
 "cells": [
  {
   "cell_type": "code",
   "execution_count": 2,
   "metadata": {},
   "outputs": [],
   "source": [
    "import numpy as np\n",
    "from sklearn.manifold import TSNE\n",
    "import matplotlib.pyplot as plt\n",
    "from scipy.spatial import distance_matrix"
   ]
  },
  {
   "attachments": {},
   "cell_type": "markdown",
   "metadata": {},
   "source": [
    "## GTZAN"
   ]
  },
  {
   "cell_type": "code",
   "execution_count": 3,
   "metadata": {},
   "outputs": [
    {
     "name": "stdout",
     "output_type": "stream",
     "text": [
      "Train label count:\n",
      "    - 0: 46\n",
      "    - 1: 48\n",
      "    - 2: 45\n",
      "    - 3: 42\n",
      "    - 4: 47\n",
      "    - 5: 43\n",
      "    - 6: 44\n",
      "    - 7: 41\n",
      "    - 8: 43\n",
      "    - 9: 44\n"
     ]
    }
   ],
   "source": [
    "train_embeddings = np.load(\"gtzan/gtzan_train_embeddings.npy\")\n",
    "train_labels = np.load(\"gtzan/gtzan_train_labels.npy\")\n",
    "\n",
    "unique_labels, count_labels = np.unique(train_labels, return_counts=True)\n",
    "print(\"Train label count:\")\n",
    "centers = []\n",
    "labels = []\n",
    "for label, count in zip(unique_labels, count_labels):\n",
    "    print(f\"    - {label}: {count}\")\n",
    "    centers.append(np.mean(train_embeddings[train_labels == label], axis=0))\n",
    "centers = np.array(centers)"
   ]
  },
  {
   "cell_type": "code",
   "execution_count": 8,
   "metadata": {},
   "outputs": [
    {
     "name": "stdout",
     "output_type": "stream",
     "text": [
      "    - 0: 23\n",
      "    - 1: 20\n",
      "    - 2: 23\n",
      "    - 3: 22\n",
      "    - 4: 18\n",
      "    - 5: 17\n",
      "    - 6: 20\n",
      "    - 7: 13\n",
      "    - 8: 17\n",
      "    - 9: 24\n"
     ]
    },
    {
     "data": {
      "text/plain": [
       "0.5939086294416244"
      ]
     },
     "execution_count": 8,
     "metadata": {},
     "output_type": "execute_result"
    }
   ],
   "source": [
    "val_embeddings = np.load(\"gtzan/gtzan_val_embeddings.npy\")\n",
    "val_labels = np.load(\"gtzan/gtzan_test_labels.npy\")\n",
    "unique_labels, count_labels = np.unique(val_labels, return_counts=True)\n",
    "for label, count in zip(unique_labels, count_labels):\n",
    "    print(f\"    - {label}: {count}\")\n",
    "val_similarities = -distance_matrix(val_embeddings, centers)\n",
    "val_preds = np.argmax(val_similarities, axis=1)\n",
    "val_labels_idx = np.unique(val_labels, return_inverse=True)[1]\n",
    "np.mean(val_preds == val_labels_idx)"
   ]
  },
  {
   "cell_type": "code",
   "execution_count": 9,
   "metadata": {},
   "outputs": [
    {
     "ename": "FileNotFoundError",
     "evalue": "[Errno 2] No such file or directory: 'gtzan/gtzan_test_embeddings.npy'",
     "output_type": "error",
     "traceback": [
      "\u001b[1;31m---------------------------------------------------------------------------\u001b[0m",
      "\u001b[1;31mFileNotFoundError\u001b[0m                         Traceback (most recent call last)",
      "Cell \u001b[1;32mIn[9], line 1\u001b[0m\n\u001b[1;32m----> 1\u001b[0m test_embeddings \u001b[38;5;241m=\u001b[39m \u001b[43mnp\u001b[49m\u001b[38;5;241;43m.\u001b[39;49m\u001b[43mload\u001b[49m\u001b[43m(\u001b[49m\u001b[38;5;124;43m\"\u001b[39;49m\u001b[38;5;124;43mgtzan/gtzan_test_embeddings.npy\u001b[39;49m\u001b[38;5;124;43m\"\u001b[39;49m\u001b[43m)\u001b[49m\n\u001b[0;32m      2\u001b[0m test_labels \u001b[38;5;241m=\u001b[39m np\u001b[38;5;241m.\u001b[39mload(\u001b[38;5;124m\"\u001b[39m\u001b[38;5;124mgtzan/gtzan_test_labels.npy\u001b[39m\u001b[38;5;124m\"\u001b[39m)\n\u001b[0;32m      3\u001b[0m unique_labels, count_labels \u001b[38;5;241m=\u001b[39m np\u001b[38;5;241m.\u001b[39munique(test_labels, return_counts\u001b[38;5;241m=\u001b[39m\u001b[38;5;28;01mTrue\u001b[39;00m)\n",
      "File \u001b[1;32mc:\\Users\\pedro\\Projects\\PhD\\music-genre-classification\\venv\\lib\\site-packages\\numpy\\lib\\npyio.py:405\u001b[0m, in \u001b[0;36mload\u001b[1;34m(file, mmap_mode, allow_pickle, fix_imports, encoding, max_header_size)\u001b[0m\n\u001b[0;32m    403\u001b[0m     own_fid \u001b[38;5;241m=\u001b[39m \u001b[38;5;28;01mFalse\u001b[39;00m\n\u001b[0;32m    404\u001b[0m \u001b[38;5;28;01melse\u001b[39;00m:\n\u001b[1;32m--> 405\u001b[0m     fid \u001b[38;5;241m=\u001b[39m stack\u001b[38;5;241m.\u001b[39menter_context(\u001b[38;5;28;43mopen\u001b[39;49m\u001b[43m(\u001b[49m\u001b[43mos_fspath\u001b[49m\u001b[43m(\u001b[49m\u001b[43mfile\u001b[49m\u001b[43m)\u001b[49m\u001b[43m,\u001b[49m\u001b[43m \u001b[49m\u001b[38;5;124;43m\"\u001b[39;49m\u001b[38;5;124;43mrb\u001b[39;49m\u001b[38;5;124;43m\"\u001b[39;49m\u001b[43m)\u001b[49m)\n\u001b[0;32m    406\u001b[0m     own_fid \u001b[38;5;241m=\u001b[39m \u001b[38;5;28;01mTrue\u001b[39;00m\n\u001b[0;32m    408\u001b[0m \u001b[38;5;66;03m# Code to distinguish from NumPy binary files and pickles.\u001b[39;00m\n",
      "\u001b[1;31mFileNotFoundError\u001b[0m: [Errno 2] No such file or directory: 'gtzan/gtzan_test_embeddings.npy'"
     ]
    }
   ],
   "source": [
    "test_embeddings = np.load(\"gtzan/gtzan_test_embeddings.npy\")\n",
    "test_labels = np.load(\"gtzan/gtzan_test_labels.npy\")\n",
    "unique_labels, count_labels = np.unique(test_labels, return_counts=True)\n",
    "print(\"Test label count:\")\n",
    "for label, count in zip(unique_labels, count_labels):\n",
    "    print(f\"    - {label}: {count}\")\n",
    "test_similarities = -distance_matrix(test_embeddings, centers)\n",
    "test_preds = np.argmax(test_similarities, axis=1)\n",
    "test_labels_idx = np.unique(test_labels, return_inverse=True)[1]\n",
    "np.mean(test_preds == test_labels_idx)"
   ]
  },
  {
   "attachments": {},
   "cell_type": "markdown",
   "metadata": {},
   "source": [
    "## VocalSet - Singer"
   ]
  },
  {
   "cell_type": "code",
   "execution_count": null,
   "metadata": {},
   "outputs": [
    {
     "name": "stdout",
     "output_type": "stream",
     "text": [
      "Train label count:\n",
      "    - 0: 46\n",
      "    - 1: 48\n",
      "    - 2: 45\n",
      "    - 3: 42\n",
      "    - 4: 47\n",
      "    - 5: 43\n",
      "    - 6: 44\n",
      "    - 7: 41\n",
      "    - 8: 43\n",
      "    - 9: 44\n"
     ]
    }
   ],
   "source": [
    "train_embeddings = np.load(\"vocalset-singer/vocalset-singer_train_embeddings.npy\")\n",
    "train_labels = np.load(\"vocalset-singer/vocalset-singer_train_labels.npy\")\n",
    "\n",
    "unique_labels, count_labels = np.unique(train_labels, return_counts=True)\n",
    "print(\"Train label count:\")\n",
    "centers = []\n",
    "labels = []\n",
    "for label, count in zip(unique_labels, count_labels):\n",
    "    print(f\"    - {label}: {count}\")\n",
    "    centers.append(np.mean(train_embeddings[train_labels == label], axis=0))\n",
    "centers = np.array(centers)"
   ]
  },
  {
   "cell_type": "code",
   "execution_count": null,
   "metadata": {},
   "outputs": [
    {
     "name": "stdout",
     "output_type": "stream",
     "text": [
      "    - 0: 23\n",
      "    - 1: 20\n",
      "    - 2: 23\n",
      "    - 3: 22\n",
      "    - 4: 18\n",
      "    - 5: 17\n",
      "    - 6: 20\n",
      "    - 7: 13\n",
      "    - 8: 17\n",
      "    - 9: 24\n"
     ]
    },
    {
     "data": {
      "text/plain": [
       "0.5939086294416244"
      ]
     },
     "metadata": {},
     "output_type": "display_data"
    }
   ],
   "source": [
    "val_embeddings = np.load(\"vocalset-singer/vocalset-singer_val_embeddings.npy\")\n",
    "val_labels = np.load(\"vocalset-singer/vocalset-singer_val_labels.npy\")\n",
    "unique_labels, count_labels = np.unique(val_labels, return_counts=True)\n",
    "for label, count in zip(unique_labels, count_labels):\n",
    "    print(f\"    - {label}: {count}\")\n",
    "val_similarities = -distance_matrix(val_embeddings, centers)\n",
    "val_preds = np.argmax(val_similarities, axis=1)\n",
    "val_labels_idx = np.unique(val_labels, return_inverse=True)[1]\n",
    "np.mean(val_preds == val_labels_idx)"
   ]
  },
  {
   "cell_type": "code",
   "execution_count": null,
   "metadata": {},
   "outputs": [
    {
     "ename": "FileNotFoundError",
     "evalue": "[Errno 2] No such file or directory: 'gtzan/gtzan_test_embeddings.npy'",
     "output_type": "error",
     "traceback": [
      "\u001b[1;31m---------------------------------------------------------------------------\u001b[0m\n",
      "\u001b[1;31mFileNotFoundError\u001b[0m                         Traceback (most recent call last)\n",
      "Cell \u001b[1;32mIn[9], line 1\u001b[0m\n",
      "\u001b[1;32m----> 1\u001b[0m test_embeddings \u001b[38;5;241m=\u001b[39m \u001b[43mnp\u001b[49m\u001b[38;5;241;43m.\u001b[39;49m\u001b[43mload\u001b[49m\u001b[43m(\u001b[49m\u001b[38;5;124;43m\"\u001b[39;49m\u001b[38;5;124;43mgtzan/gtzan_test_embeddings.npy\u001b[39;49m\u001b[38;5;124;43m\"\u001b[39;49m\u001b[43m)\u001b[49m\n",
      "\u001b[0;32m      2\u001b[0m test_labels \u001b[38;5;241m=\u001b[39m np\u001b[38;5;241m.\u001b[39mload(\u001b[38;5;124m\"\u001b[39m\u001b[38;5;124mgtzan/gtzan_test_labels.npy\u001b[39m\u001b[38;5;124m\"\u001b[39m)\n",
      "\u001b[0;32m      3\u001b[0m unique_labels, count_labels \u001b[38;5;241m=\u001b[39m np\u001b[38;5;241m.\u001b[39munique(test_labels, return_counts\u001b[38;5;241m=\u001b[39m\u001b[38;5;28;01mTrue\u001b[39;00m)\n",
      "\n",
      "File \u001b[1;32mc:\\Users\\pedro\\Projects\\PhD\\music-genre-classification\\venv\\lib\\site-packages\\numpy\\lib\\npyio.py:405\u001b[0m, in \u001b[0;36mload\u001b[1;34m(file, mmap_mode, allow_pickle, fix_imports, encoding, max_header_size)\u001b[0m\n",
      "\u001b[0;32m    403\u001b[0m     own_fid \u001b[38;5;241m=\u001b[39m \u001b[38;5;28;01mFalse\u001b[39;00m\n",
      "\u001b[0;32m    404\u001b[0m \u001b[38;5;28;01melse\u001b[39;00m:\n",
      "\u001b[1;32m--> 405\u001b[0m     fid \u001b[38;5;241m=\u001b[39m stack\u001b[38;5;241m.\u001b[39menter_context(\u001b[38;5;28;43mopen\u001b[39;49m\u001b[43m(\u001b[49m\u001b[43mos_fspath\u001b[49m\u001b[43m(\u001b[49m\u001b[43mfile\u001b[49m\u001b[43m)\u001b[49m\u001b[43m,\u001b[49m\u001b[43m \u001b[49m\u001b[38;5;124;43m\"\u001b[39;49m\u001b[38;5;124;43mrb\u001b[39;49m\u001b[38;5;124;43m\"\u001b[39;49m\u001b[43m)\u001b[49m)\n",
      "\u001b[0;32m    406\u001b[0m     own_fid \u001b[38;5;241m=\u001b[39m \u001b[38;5;28;01mTrue\u001b[39;00m\n",
      "\u001b[0;32m    408\u001b[0m \u001b[38;5;66;03m# Code to distinguish from NumPy binary files and pickles.\u001b[39;00m\n",
      "\n",
      "\u001b[1;31mFileNotFoundError\u001b[0m: [Errno 2] No such file or directory: 'gtzan/gtzan_test_embeddings.npy'"
     ]
    }
   ],
   "source": [
    "test_embeddings = np.load(\"vocalset-singer/vocalset-singer_test_embeddings.npy\")\n",
    "test_labels = np.load(\"vocalset-singer/vocalset-singer_test_labels.npy\")\n",
    "unique_labels, count_labels = np.unique(test_labels, return_counts=True)\n",
    "print(\"Test label count:\")\n",
    "for label, count in zip(unique_labels, count_labels):\n",
    "    print(f\"    - {label}: {count}\")\n",
    "test_similarities = -distance_matrix(test_embeddings, centers)\n",
    "test_preds = np.argmax(test_similarities, axis=1)\n",
    "test_labels_idx = np.unique(test_labels, return_inverse=True)[1]\n",
    "np.mean(test_preds == test_labels_idx)"
   ]
  },
  {
   "attachments": {},
   "cell_type": "markdown",
   "metadata": {},
   "source": [
    "## VocalSet - Tech"
   ]
  },
  {
   "cell_type": "code",
   "execution_count": null,
   "metadata": {},
   "outputs": [
    {
     "name": "stdout",
     "output_type": "stream",
     "text": [
      "Train label count:\n",
      "    - 0: 46\n",
      "    - 1: 48\n",
      "    - 2: 45\n",
      "    - 3: 42\n",
      "    - 4: 47\n",
      "    - 5: 43\n",
      "    - 6: 44\n",
      "    - 7: 41\n",
      "    - 8: 43\n",
      "    - 9: 44\n"
     ]
    }
   ],
   "source": [
    "train_embeddings = np.load(\"vocalset-tech/vocalset-tech_train_embeddings.npy\")\n",
    "train_labels = np.load(\"vocalset-tech/vocalset-tech_train_labels.npy\")\n",
    "\n",
    "unique_labels, count_labels = np.unique(train_labels, return_counts=True)\n",
    "print(\"Train label count:\")\n",
    "centers = []\n",
    "labels = []\n",
    "for label, count in zip(unique_labels, count_labels):\n",
    "    print(f\"    - {label}: {count}\")\n",
    "    centers.append(np.mean(train_embeddings[train_labels == label], axis=0))\n",
    "centers = np.array(centers)"
   ]
  },
  {
   "cell_type": "code",
   "execution_count": null,
   "metadata": {},
   "outputs": [
    {
     "name": "stdout",
     "output_type": "stream",
     "text": [
      "    - 0: 23\n",
      "    - 1: 20\n",
      "    - 2: 23\n",
      "    - 3: 22\n",
      "    - 4: 18\n",
      "    - 5: 17\n",
      "    - 6: 20\n",
      "    - 7: 13\n",
      "    - 8: 17\n",
      "    - 9: 24\n"
     ]
    },
    {
     "data": {
      "text/plain": [
       "0.5939086294416244"
      ]
     },
     "metadata": {},
     "output_type": "display_data"
    }
   ],
   "source": [
    "val_embeddings = np.load(\"vocalset-tech/vocalset-tech_val_embeddings.npy\")\n",
    "val_labels = np.load(\"vocalset-tech/vocalset-tech_val_labels.npy\")\n",
    "unique_labels, count_labels = np.unique(val_labels, return_counts=True)\n",
    "for label, count in zip(unique_labels, count_labels):\n",
    "    print(f\"    - {label}: {count}\")\n",
    "val_similarities = -distance_matrix(val_embeddings, centers)\n",
    "val_preds = np.argmax(val_similarities, axis=1)\n",
    "val_labels_idx = np.unique(val_labels, return_inverse=True)[1]\n",
    "np.mean(val_preds == val_labels_idx)"
   ]
  },
  {
   "cell_type": "code",
   "execution_count": null,
   "metadata": {},
   "outputs": [
    {
     "ename": "FileNotFoundError",
     "evalue": "[Errno 2] No such file or directory: 'gtzan/gtzan_test_embeddings.npy'",
     "output_type": "error",
     "traceback": [
      "\u001b[1;31m---------------------------------------------------------------------------\u001b[0m\n",
      "\u001b[1;31mFileNotFoundError\u001b[0m                         Traceback (most recent call last)\n",
      "Cell \u001b[1;32mIn[9], line 1\u001b[0m\n",
      "\u001b[1;32m----> 1\u001b[0m test_embeddings \u001b[38;5;241m=\u001b[39m \u001b[43mnp\u001b[49m\u001b[38;5;241;43m.\u001b[39;49m\u001b[43mload\u001b[49m\u001b[43m(\u001b[49m\u001b[38;5;124;43m\"\u001b[39;49m\u001b[38;5;124;43mgtzan/gtzan_test_embeddings.npy\u001b[39;49m\u001b[38;5;124;43m\"\u001b[39;49m\u001b[43m)\u001b[49m\n",
      "\u001b[0;32m      2\u001b[0m test_labels \u001b[38;5;241m=\u001b[39m np\u001b[38;5;241m.\u001b[39mload(\u001b[38;5;124m\"\u001b[39m\u001b[38;5;124mgtzan/gtzan_test_labels.npy\u001b[39m\u001b[38;5;124m\"\u001b[39m)\n",
      "\u001b[0;32m      3\u001b[0m unique_labels, count_labels \u001b[38;5;241m=\u001b[39m np\u001b[38;5;241m.\u001b[39munique(test_labels, return_counts\u001b[38;5;241m=\u001b[39m\u001b[38;5;28;01mTrue\u001b[39;00m)\n",
      "\n",
      "File \u001b[1;32mc:\\Users\\pedro\\Projects\\PhD\\music-genre-classification\\venv\\lib\\site-packages\\numpy\\lib\\npyio.py:405\u001b[0m, in \u001b[0;36mload\u001b[1;34m(file, mmap_mode, allow_pickle, fix_imports, encoding, max_header_size)\u001b[0m\n",
      "\u001b[0;32m    403\u001b[0m     own_fid \u001b[38;5;241m=\u001b[39m \u001b[38;5;28;01mFalse\u001b[39;00m\n",
      "\u001b[0;32m    404\u001b[0m \u001b[38;5;28;01melse\u001b[39;00m:\n",
      "\u001b[1;32m--> 405\u001b[0m     fid \u001b[38;5;241m=\u001b[39m stack\u001b[38;5;241m.\u001b[39menter_context(\u001b[38;5;28;43mopen\u001b[39;49m\u001b[43m(\u001b[49m\u001b[43mos_fspath\u001b[49m\u001b[43m(\u001b[49m\u001b[43mfile\u001b[49m\u001b[43m)\u001b[49m\u001b[43m,\u001b[49m\u001b[43m \u001b[49m\u001b[38;5;124;43m\"\u001b[39;49m\u001b[38;5;124;43mrb\u001b[39;49m\u001b[38;5;124;43m\"\u001b[39;49m\u001b[43m)\u001b[49m)\n",
      "\u001b[0;32m    406\u001b[0m     own_fid \u001b[38;5;241m=\u001b[39m \u001b[38;5;28;01mTrue\u001b[39;00m\n",
      "\u001b[0;32m    408\u001b[0m \u001b[38;5;66;03m# Code to distinguish from NumPy binary files and pickles.\u001b[39;00m\n",
      "\n",
      "\u001b[1;31mFileNotFoundError\u001b[0m: [Errno 2] No such file or directory: 'gtzan/gtzan_test_embeddings.npy'"
     ]
    }
   ],
   "source": [
    "test_embeddings = np.load(\"vocalset-tech/vocalset-tech_test_embeddings.npy\")\n",
    "test_labels = np.load(\"vocalset-tech/vocalset-tech_test_labels.npy\")\n",
    "unique_labels, count_labels = np.unique(test_labels, return_counts=True)\n",
    "print(\"Test label count:\")\n",
    "for label, count in zip(unique_labels, count_labels):\n",
    "    print(f\"    - {label}: {count}\")\n",
    "test_similarities = -distance_matrix(test_embeddings, centers)\n",
    "test_preds = np.argmax(test_similarities, axis=1)\n",
    "test_labels_idx = np.unique(test_labels, return_inverse=True)[1]\n",
    "np.mean(test_preds == test_labels_idx)"
   ]
  },
  {
   "attachments": {},
   "cell_type": "markdown",
   "metadata": {},
   "source": [
    "## NSynth"
   ]
  },
  {
   "cell_type": "code",
   "execution_count": null,
   "metadata": {},
   "outputs": [
    {
     "name": "stdout",
     "output_type": "stream",
     "text": [
      "Train label count:\n",
      "    - 0: 46\n",
      "    - 1: 48\n",
      "    - 2: 45\n",
      "    - 3: 42\n",
      "    - 4: 47\n",
      "    - 5: 43\n",
      "    - 6: 44\n",
      "    - 7: 41\n",
      "    - 8: 43\n",
      "    - 9: 44\n"
     ]
    }
   ],
   "source": [
    "train_embeddings = np.load(\"nsynth/nsynth_train_embeddings.npy\")\n",
    "train_labels = np.load(\"nsynth/nsynth_train_labels.npy\")\n",
    "\n",
    "unique_labels, count_labels = np.unique(train_labels, return_counts=True)\n",
    "print(\"Train label count:\")\n",
    "centers = []\n",
    "labels = []\n",
    "for label, count in zip(unique_labels, count_labels):\n",
    "    print(f\"    - {label}: {count}\")\n",
    "    centers.append(np.mean(train_embeddings[train_labels == label], axis=0))\n",
    "centers = np.array(centers)"
   ]
  },
  {
   "cell_type": "code",
   "execution_count": null,
   "metadata": {},
   "outputs": [
    {
     "name": "stdout",
     "output_type": "stream",
     "text": [
      "    - 0: 23\n",
      "    - 1: 20\n",
      "    - 2: 23\n",
      "    - 3: 22\n",
      "    - 4: 18\n",
      "    - 5: 17\n",
      "    - 6: 20\n",
      "    - 7: 13\n",
      "    - 8: 17\n",
      "    - 9: 24\n"
     ]
    },
    {
     "data": {
      "text/plain": [
       "0.5939086294416244"
      ]
     },
     "metadata": {},
     "output_type": "display_data"
    }
   ],
   "source": [
    "val_embeddings = np.load(\"nsynth/nsynth_val_embeddings.npy\")\n",
    "val_labels = np.load(\"nsynth/nsynth_val_labels.npy\")\n",
    "unique_labels, count_labels = np.unique(val_labels, return_counts=True)\n",
    "for label, count in zip(unique_labels, count_labels):\n",
    "    print(f\"    - {label}: {count}\")\n",
    "val_similarities = -distance_matrix(val_embeddings, centers)\n",
    "val_preds = np.argmax(val_similarities, axis=1)\n",
    "val_labels_idx = np.unique(val_labels, return_inverse=True)[1]\n",
    "np.mean(val_preds == val_labels_idx)"
   ]
  },
  {
   "cell_type": "code",
   "execution_count": null,
   "metadata": {},
   "outputs": [
    {
     "ename": "FileNotFoundError",
     "evalue": "[Errno 2] No such file or directory: 'gtzan/gtzan_test_embeddings.npy'",
     "output_type": "error",
     "traceback": [
      "\u001b[1;31m---------------------------------------------------------------------------\u001b[0m\n",
      "\u001b[1;31mFileNotFoundError\u001b[0m                         Traceback (most recent call last)\n",
      "Cell \u001b[1;32mIn[9], line 1\u001b[0m\n",
      "\u001b[1;32m----> 1\u001b[0m test_embeddings \u001b[38;5;241m=\u001b[39m \u001b[43mnp\u001b[49m\u001b[38;5;241;43m.\u001b[39;49m\u001b[43mload\u001b[49m\u001b[43m(\u001b[49m\u001b[38;5;124;43m\"\u001b[39;49m\u001b[38;5;124;43mgtzan/gtzan_test_embeddings.npy\u001b[39;49m\u001b[38;5;124;43m\"\u001b[39;49m\u001b[43m)\u001b[49m\n",
      "\u001b[0;32m      2\u001b[0m test_labels \u001b[38;5;241m=\u001b[39m np\u001b[38;5;241m.\u001b[39mload(\u001b[38;5;124m\"\u001b[39m\u001b[38;5;124mgtzan/gtzan_test_labels.npy\u001b[39m\u001b[38;5;124m\"\u001b[39m)\n",
      "\u001b[0;32m      3\u001b[0m unique_labels, count_labels \u001b[38;5;241m=\u001b[39m np\u001b[38;5;241m.\u001b[39munique(test_labels, return_counts\u001b[38;5;241m=\u001b[39m\u001b[38;5;28;01mTrue\u001b[39;00m)\n",
      "\n",
      "File \u001b[1;32mc:\\Users\\pedro\\Projects\\PhD\\music-genre-classification\\venv\\lib\\site-packages\\numpy\\lib\\npyio.py:405\u001b[0m, in \u001b[0;36mload\u001b[1;34m(file, mmap_mode, allow_pickle, fix_imports, encoding, max_header_size)\u001b[0m\n",
      "\u001b[0;32m    403\u001b[0m     own_fid \u001b[38;5;241m=\u001b[39m \u001b[38;5;28;01mFalse\u001b[39;00m\n",
      "\u001b[0;32m    404\u001b[0m \u001b[38;5;28;01melse\u001b[39;00m:\n",
      "\u001b[1;32m--> 405\u001b[0m     fid \u001b[38;5;241m=\u001b[39m stack\u001b[38;5;241m.\u001b[39menter_context(\u001b[38;5;28;43mopen\u001b[39;49m\u001b[43m(\u001b[49m\u001b[43mos_fspath\u001b[49m\u001b[43m(\u001b[49m\u001b[43mfile\u001b[49m\u001b[43m)\u001b[49m\u001b[43m,\u001b[49m\u001b[43m \u001b[49m\u001b[38;5;124;43m\"\u001b[39;49m\u001b[38;5;124;43mrb\u001b[39;49m\u001b[38;5;124;43m\"\u001b[39;49m\u001b[43m)\u001b[49m)\n",
      "\u001b[0;32m    406\u001b[0m     own_fid \u001b[38;5;241m=\u001b[39m \u001b[38;5;28;01mTrue\u001b[39;00m\n",
      "\u001b[0;32m    408\u001b[0m \u001b[38;5;66;03m# Code to distinguish from NumPy binary files and pickles.\u001b[39;00m\n",
      "\n",
      "\u001b[1;31mFileNotFoundError\u001b[0m: [Errno 2] No such file or directory: 'gtzan/gtzan_test_embeddings.npy'"
     ]
    }
   ],
   "source": [
    "test_embeddings = np.load(\"nsynth/nsynth_test_embeddings.npy\")\n",
    "test_labels = np.load(\"nsynth/nsynth_test_labels.npy\")\n",
    "unique_labels, count_labels = np.unique(test_labels, return_counts=True)\n",
    "print(\"Test label count:\")\n",
    "for label, count in zip(unique_labels, count_labels):\n",
    "    print(f\"    - {label}: {count}\")\n",
    "test_similarities = -distance_matrix(test_embeddings, centers)\n",
    "test_preds = np.argmax(test_similarities, axis=1)\n",
    "test_labels_idx = np.unique(test_labels, return_inverse=True)[1]\n",
    "np.mean(test_preds == test_labels_idx)"
   ]
  }
 ],
 "metadata": {
  "kernelspec": {
   "display_name": "venv",
   "language": "python",
   "name": "python3"
  },
  "language_info": {
   "codemirror_mode": {
    "name": "ipython",
    "version": 3
   },
   "file_extension": ".py",
   "mimetype": "text/x-python",
   "name": "python",
   "nbconvert_exporter": "python",
   "pygments_lexer": "ipython3",
   "version": "3.10.11"
  },
  "orig_nbformat": 4
 },
 "nbformat": 4,
 "nbformat_minor": 2
}
