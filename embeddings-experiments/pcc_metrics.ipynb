{
 "cells": [
  {
   "cell_type": "code",
   "execution_count": 4,
   "metadata": {},
   "outputs": [],
   "source": [
    "import numpy as np\n",
    "from scipy.spatial import distance_matrix"
   ]
  },
  {
   "attachments": {},
   "cell_type": "markdown",
   "metadata": {},
   "source": [
    "## GTZAN"
   ]
  },
  {
   "cell_type": "code",
   "execution_count": 5,
   "metadata": {},
   "outputs": [
    {
     "name": "stdout",
     "output_type": "stream",
     "text": [
      "Train label count:\n",
      "    - 0: 46\n",
      "    - 1: 48\n",
      "    - 2: 45\n",
      "    - 3: 42\n",
      "    - 4: 47\n",
      "    - 5: 43\n",
      "    - 6: 44\n",
      "    - 7: 41\n",
      "    - 8: 43\n",
      "    - 9: 44\n"
     ]
    }
   ],
   "source": [
    "train_embeddings = np.load(\"gtzan/gtzan_train_embeddings.npy\")\n",
    "train_labels = np.load(\"gtzan/gtzan_train_labels.npy\")\n",
    "\n",
    "unique_labels, count_labels = np.unique(train_labels, return_counts=True)\n",
    "print(\"Train label count:\")\n",
    "centers = []\n",
    "labels = []\n",
    "for label, count in zip(unique_labels, count_labels, strict=False):\n",
    "    print(f\"    - {label}: {count}\")\n",
    "    centers.append(np.mean(train_embeddings[train_labels == label], axis=0))\n",
    "centers = np.array(centers)"
   ]
  },
  {
   "cell_type": "code",
   "execution_count": 7,
   "metadata": {},
   "outputs": [
    {
     "name": "stdout",
     "output_type": "stream",
     "text": [
      "    - 0: 23\n",
      "    - 1: 20\n",
      "    - 2: 23\n",
      "    - 3: 22\n",
      "    - 4: 18\n",
      "    - 5: 17\n",
      "    - 6: 20\n",
      "    - 7: 13\n",
      "    - 8: 17\n",
      "    - 9: 24\n"
     ]
    },
    {
     "data": {
      "text/plain": [
       "0.5939086294416244"
      ]
     },
     "execution_count": 7,
     "metadata": {},
     "output_type": "execute_result"
    }
   ],
   "source": [
    "val_embeddings = np.load(\"gtzan/gtzan_val_embeddings.npy\")\n",
    "val_labels = np.load(\"gtzan/gtzan_val_labels.npy\")\n",
    "unique_labels, count_labels = np.unique(val_labels, return_counts=True)\n",
    "for label, count in zip(unique_labels, count_labels, strict=False):\n",
    "    print(f\"    - {label}: {count}\")\n",
    "val_similarities = -distance_matrix(val_embeddings, centers)\n",
    "val_preds = np.argmax(val_similarities, axis=1)\n",
    "val_labels_idx = np.unique(val_labels, return_inverse=True)[1]\n",
    "np.mean(val_preds == val_labels_idx)"
   ]
  },
  {
   "cell_type": "code",
   "execution_count": 8,
   "metadata": {},
   "outputs": [
    {
     "name": "stdout",
     "output_type": "stream",
     "text": [
      "Test label count:\n",
      "    - 0: 31\n",
      "    - 1: 31\n",
      "    - 2: 30\n",
      "    - 3: 29\n",
      "    - 4: 27\n",
      "    - 5: 27\n",
      "    - 6: 27\n",
      "    - 7: 30\n",
      "    - 8: 26\n",
      "    - 9: 32\n"
     ]
    },
    {
     "data": {
      "text/plain": [
       "0.5896551724137931"
      ]
     },
     "execution_count": 8,
     "metadata": {},
     "output_type": "execute_result"
    }
   ],
   "source": [
    "test_embeddings = np.load(\"gtzan/gtzan_test_embeddings.npy\")\n",
    "test_labels = np.load(\"gtzan/gtzan_test_labels.npy\")\n",
    "unique_labels, count_labels = np.unique(test_labels, return_counts=True)\n",
    "print(\"Test label count:\")\n",
    "for label, count in zip(unique_labels, count_labels, strict=False):\n",
    "    print(f\"    - {label}: {count}\")\n",
    "test_similarities = -distance_matrix(test_embeddings, centers)\n",
    "test_preds = np.argmax(test_similarities, axis=1)\n",
    "test_labels_idx = np.unique(test_labels, return_inverse=True)[1]\n",
    "np.mean(test_preds == test_labels_idx)"
   ]
  },
  {
   "attachments": {},
   "cell_type": "markdown",
   "metadata": {},
   "source": [
    "## VocalSet - Singer"
   ]
  },
  {
   "cell_type": "code",
   "execution_count": 9,
   "metadata": {},
   "outputs": [
    {
     "name": "stdout",
     "output_type": "stream",
     "text": [
      "Train label count:\n",
      "    - 0: 87\n",
      "    - 1: 91\n",
      "    - 2: 86\n",
      "    - 3: 87\n",
      "    - 4: 88\n",
      "    - 5: 75\n",
      "    - 6: 86\n",
      "    - 7: 87\n",
      "    - 8: 87\n",
      "    - 9: 90\n",
      "    - 10: 87\n",
      "    - 11: 85\n",
      "    - 12: 88\n",
      "    - 13: 87\n",
      "    - 14: 87\n",
      "    - 15: 87\n",
      "    - 16: 85\n",
      "    - 17: 87\n",
      "    - 18: 87\n",
      "    - 19: 87\n"
     ]
    }
   ],
   "source": [
    "train_embeddings = np.load(\"vocalset-singer/vocalset-singer_train_embeddings.npy\")\n",
    "train_labels = np.load(\"vocalset-singer/vocalset-singer_train_labels.npy\")\n",
    "\n",
    "unique_labels, count_labels = np.unique(train_labels, return_counts=True)\n",
    "print(\"Train label count:\")\n",
    "centers = []\n",
    "labels = []\n",
    "for label, count in zip(unique_labels, count_labels, strict=False):\n",
    "    print(f\"    - {label}: {count}\")\n",
    "    centers.append(np.mean(train_embeddings[train_labels == label], axis=0))\n",
    "centers = np.array(centers)"
   ]
  },
  {
   "cell_type": "code",
   "execution_count": 10,
   "metadata": {},
   "outputs": [
    {
     "name": "stdout",
     "output_type": "stream",
     "text": [
      "    - 0: 59\n",
      "    - 1: 60\n",
      "    - 2: 57\n",
      "    - 3: 58\n",
      "    - 4: 58\n",
      "    - 5: 50\n",
      "    - 6: 57\n",
      "    - 7: 59\n",
      "    - 8: 59\n",
      "    - 9: 60\n",
      "    - 10: 59\n",
      "    - 11: 57\n",
      "    - 12: 58\n",
      "    - 13: 59\n",
      "    - 14: 59\n",
      "    - 15: 59\n",
      "    - 16: 57\n",
      "    - 17: 59\n",
      "    - 18: 59\n",
      "    - 19: 59\n"
     ]
    },
    {
     "data": {
      "text/plain": [
       "0.49827882960413084"
      ]
     },
     "execution_count": 10,
     "metadata": {},
     "output_type": "execute_result"
    }
   ],
   "source": [
    "val_embeddings = np.load(\"vocalset-singer/vocalset-singer_val_embeddings.npy\")\n",
    "val_labels = np.load(\"vocalset-singer/vocalset-singer_val_labels.npy\")\n",
    "unique_labels, count_labels = np.unique(val_labels, return_counts=True)\n",
    "for label, count in zip(unique_labels, count_labels, strict=False):\n",
    "    print(f\"    - {label}: {count}\")\n",
    "val_similarities = -distance_matrix(val_embeddings, centers)\n",
    "val_preds = np.argmax(val_similarities, axis=1)\n",
    "val_labels_idx = np.unique(val_labels, return_inverse=True)[1]\n",
    "np.mean(val_preds == val_labels_idx)"
   ]
  },
  {
   "cell_type": "code",
   "execution_count": 11,
   "metadata": {},
   "outputs": [
    {
     "name": "stdout",
     "output_type": "stream",
     "text": [
      "Test label count:\n",
      "    - 0: 36\n",
      "    - 1: 38\n",
      "    - 2: 36\n",
      "    - 3: 36\n",
      "    - 4: 37\n",
      "    - 5: 31\n",
      "    - 6: 36\n",
      "    - 7: 36\n",
      "    - 8: 36\n",
      "    - 9: 37\n",
      "    - 10: 36\n",
      "    - 11: 36\n",
      "    - 12: 37\n",
      "    - 13: 36\n",
      "    - 14: 36\n",
      "    - 15: 36\n",
      "    - 16: 36\n",
      "    - 17: 36\n",
      "    - 18: 36\n",
      "    - 19: 36\n"
     ]
    },
    {
     "data": {
      "text/plain": [
       "0.525"
      ]
     },
     "execution_count": 11,
     "metadata": {},
     "output_type": "execute_result"
    }
   ],
   "source": [
    "test_embeddings = np.load(\"vocalset-singer/vocalset-singer_test_embeddings.npy\")\n",
    "test_labels = np.load(\"vocalset-singer/vocalset-singer_test_labels.npy\")\n",
    "unique_labels, count_labels = np.unique(test_labels, return_counts=True)\n",
    "print(\"Test label count:\")\n",
    "for label, count in zip(unique_labels, count_labels, strict=False):\n",
    "    print(f\"    - {label}: {count}\")\n",
    "test_similarities = -distance_matrix(test_embeddings, centers)\n",
    "test_preds = np.argmax(test_similarities, axis=1)\n",
    "test_labels_idx = np.unique(test_labels, return_inverse=True)[1]\n",
    "np.mean(test_preds == test_labels_idx)"
   ]
  },
  {
   "attachments": {},
   "cell_type": "markdown",
   "metadata": {},
   "source": [
    "## VocalSet - Tech"
   ]
  },
  {
   "cell_type": "code",
   "execution_count": 12,
   "metadata": {},
   "outputs": [
    {
     "name": "stdout",
     "output_type": "stream",
     "text": [
      "Train label count:\n",
      "    - 0: 147\n",
      "    - 1: 205\n",
      "    - 2: 118\n",
      "    - 3: 114\n",
      "    - 4: 114\n",
      "    - 5: 11\n",
      "    - 6: 57\n",
      "    - 7: 57\n",
      "    - 8: 57\n",
      "    - 9: 111\n"
     ]
    }
   ],
   "source": [
    "train_embeddings = np.load(\"vocalset-tech/vocalset-tech_train_embeddings.npy\")\n",
    "train_labels = np.load(\"vocalset-tech/vocalset-tech_train_labels.npy\")\n",
    "\n",
    "unique_labels, count_labels = np.unique(train_labels, return_counts=True)\n",
    "print(\"Train label count:\")\n",
    "centers = []\n",
    "labels = []\n",
    "for label, count in zip(unique_labels, count_labels, strict=False):\n",
    "    print(f\"    - {label}: {count}\")\n",
    "    centers.append(np.mean(train_embeddings[train_labels == label], axis=0))\n",
    "centers = np.array(centers)"
   ]
  },
  {
   "cell_type": "code",
   "execution_count": 13,
   "metadata": {},
   "outputs": [
    {
     "name": "stdout",
     "output_type": "stream",
     "text": [
      "    - 0: 21\n",
      "    - 1: 29\n",
      "    - 2: 17\n",
      "    - 3: 16\n",
      "    - 4: 16\n",
      "    - 5: 2\n",
      "    - 6: 8\n",
      "    - 7: 8\n",
      "    - 8: 8\n",
      "    - 9: 16\n"
     ]
    },
    {
     "data": {
      "text/plain": [
       "0.6382978723404256"
      ]
     },
     "execution_count": 13,
     "metadata": {},
     "output_type": "execute_result"
    }
   ],
   "source": [
    "val_embeddings = np.load(\"vocalset-tech/vocalset-tech_val_embeddings.npy\")\n",
    "val_labels = np.load(\"vocalset-tech/vocalset-tech_val_labels.npy\")\n",
    "unique_labels, count_labels = np.unique(val_labels, return_counts=True)\n",
    "for label, count in zip(unique_labels, count_labels, strict=False):\n",
    "    print(f\"    - {label}: {count}\")\n",
    "val_similarities = -distance_matrix(val_embeddings, centers)\n",
    "val_preds = np.argmax(val_similarities, axis=1)\n",
    "val_labels_idx = np.unique(val_labels, return_inverse=True)[1]\n",
    "np.mean(val_preds == val_labels_idx)"
   ]
  },
  {
   "cell_type": "code",
   "execution_count": 14,
   "metadata": {},
   "outputs": [
    {
     "name": "stdout",
     "output_type": "stream",
     "text": [
      "Test label count:\n",
      "    - 0: 61\n",
      "    - 1: 91\n",
      "    - 2: 50\n",
      "    - 3: 50\n",
      "    - 4: 52\n",
      "    - 5: 5\n",
      "    - 6: 25\n",
      "    - 7: 25\n",
      "    - 8: 25\n",
      "    - 9: 51\n"
     ]
    },
    {
     "data": {
      "text/plain": [
       "0.6252873563218391"
      ]
     },
     "execution_count": 14,
     "metadata": {},
     "output_type": "execute_result"
    }
   ],
   "source": [
    "test_embeddings = np.load(\"vocalset-tech/vocalset-tech_test_embeddings.npy\")\n",
    "test_labels = np.load(\"vocalset-tech/vocalset-tech_test_labels.npy\")\n",
    "unique_labels, count_labels = np.unique(test_labels, return_counts=True)\n",
    "print(\"Test label count:\")\n",
    "for label, count in zip(unique_labels, count_labels, strict=False):\n",
    "    print(f\"    - {label}: {count}\")\n",
    "test_similarities = -distance_matrix(test_embeddings, centers)\n",
    "test_preds = np.argmax(test_similarities, axis=1)\n",
    "test_labels_idx = np.unique(test_labels, return_inverse=True)[1]\n",
    "np.mean(test_preds == test_labels_idx)"
   ]
  },
  {
   "attachments": {},
   "cell_type": "markdown",
   "metadata": {},
   "source": [
    "## NSynth"
   ]
  },
  {
   "cell_type": "code",
   "execution_count": 15,
   "metadata": {},
   "outputs": [
    {
     "name": "stdout",
     "output_type": "stream",
     "text": [
      "Train label count:\n",
      "    - 0: 5000\n",
      "    - 1: 5000\n",
      "    - 2: 5000\n",
      "    - 3: 4998\n",
      "    - 4: 4998\n",
      "    - 5: 4998\n",
      "    - 6: 5000\n",
      "    - 7: 5000\n",
      "    - 8: 5000\n",
      "    - 9: 5000\n",
      "    - 10: 5000\n"
     ]
    }
   ],
   "source": [
    "train_embeddings = np.load(\"nsynth/nsynth_train_embeddings.npy\")\n",
    "train_labels = np.load(\"nsynth/nsynth_train_labels.npy\")\n",
    "\n",
    "unique_labels, count_labels = np.unique(train_labels, return_counts=True)\n",
    "print(\"Train label count:\")\n",
    "centers = []\n",
    "labels = []\n",
    "for label, count in zip(unique_labels, count_labels, strict=False):\n",
    "    print(f\"    - {label}: {count}\")\n",
    "    centers.append(np.mean(train_embeddings[train_labels == label], axis=0))\n",
    "centers = np.array(centers)"
   ]
  },
  {
   "cell_type": "code",
   "execution_count": 16,
   "metadata": {},
   "outputs": [
    {
     "name": "stdout",
     "output_type": "stream",
     "text": [
      "    - 0: 2638\n",
      "    - 1: 886\n",
      "    - 2: 470\n",
      "    - 3: 2081\n",
      "    - 4: 2404\n",
      "    - 5: 663\n",
      "    - 6: 1598\n",
      "    - 7: 720\n",
      "    - 8: 814\n",
      "    - 10: 404\n"
     ]
    },
    {
     "data": {
      "text/plain": [
       "0.29563022558763213"
      ]
     },
     "execution_count": 16,
     "metadata": {},
     "output_type": "execute_result"
    }
   ],
   "source": [
    "val_embeddings = np.load(\"nsynth/nsynth_val_embeddings.npy\")\n",
    "val_labels = np.load(\"nsynth/nsynth_val_labels.npy\")\n",
    "unique_labels, count_labels = np.unique(val_labels, return_counts=True)\n",
    "for label, count in zip(unique_labels, count_labels, strict=False):\n",
    "    print(f\"    - {label}: {count}\")\n",
    "val_similarities = -distance_matrix(val_embeddings, centers)\n",
    "val_preds = np.argmax(val_similarities, axis=1)\n",
    "val_labels_idx = np.unique(val_labels, return_inverse=True)[1]\n",
    "np.mean(val_preds == val_labels_idx)"
   ]
  },
  {
   "cell_type": "code",
   "execution_count": 17,
   "metadata": {},
   "outputs": [
    {
     "name": "stdout",
     "output_type": "stream",
     "text": [
      "Test label count:\n",
      "    - 0: 843\n",
      "    - 1: 269\n",
      "    - 2: 180\n",
      "    - 3: 652\n",
      "    - 4: 766\n",
      "    - 5: 202\n",
      "    - 6: 502\n",
      "    - 7: 235\n",
      "    - 8: 306\n",
      "    - 10: 141\n"
     ]
    },
    {
     "data": {
      "text/plain": [
       "0.296630859375"
      ]
     },
     "execution_count": 17,
     "metadata": {},
     "output_type": "execute_result"
    }
   ],
   "source": [
    "test_embeddings = np.load(\"nsynth/nsynth_test_embeddings.npy\")\n",
    "test_labels = np.load(\"nsynth/nsynth_test_labels.npy\")\n",
    "unique_labels, count_labels = np.unique(test_labels, return_counts=True)\n",
    "print(\"Test label count:\")\n",
    "for label, count in zip(unique_labels, count_labels, strict=False):\n",
    "    print(f\"    - {label}: {count}\")\n",
    "test_similarities = -distance_matrix(test_embeddings, centers)\n",
    "test_preds = np.argmax(test_similarities, axis=1)\n",
    "test_labels_idx = np.unique(test_labels, return_inverse=True)[1]\n",
    "np.mean(test_preds == test_labels_idx)"
   ]
  }
 ],
 "metadata": {
  "kernelspec": {
   "display_name": "venv",
   "language": "python",
   "name": "python3"
  },
  "language_info": {
   "codemirror_mode": {
    "name": "ipython",
    "version": 3
   },
   "file_extension": ".py",
   "mimetype": "text/x-python",
   "name": "python",
   "nbconvert_exporter": "python",
   "pygments_lexer": "ipython3",
   "version": "3.10.11"
  },
  "orig_nbformat": 4
 },
 "nbformat": 4,
 "nbformat_minor": 2
}
